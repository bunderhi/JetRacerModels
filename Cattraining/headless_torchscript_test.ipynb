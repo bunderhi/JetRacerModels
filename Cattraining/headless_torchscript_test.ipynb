{
 "cells": [
  {
   "cell_type": "code",
   "execution_count": 1,
   "metadata": {},
   "outputs": [],
   "source": [
    "import torch\n",
    "from torch import jit\n",
    "import cv2\n",
    "import time"
   ]
  },
  {
   "cell_type": "code",
   "execution_count": 2,
   "metadata": {},
   "outputs": [],
   "source": [
    "# Load the torchscript model \n",
    "model = jit.load('/models/run10/model.zip')\n",
    "# Set the model to evaluate mode\n",
    "model = model.cuda().eval()"
   ]
  },
  {
   "cell_type": "code",
   "execution_count": 3,
   "metadata": {},
   "outputs": [],
   "source": [
    "ino = 536\n",
    "# Read  a sample image and mask from the data-set\n",
    "img = cv2.imread(f'/models/train_data/Images/{ino:03d}.jpg').transpose(2,0,1).reshape(1,3,320,640)\n",
    "mask = cv2.imread(f'/models/train_data/Masks/{ino:03d}_mask.png')"
   ]
  },
  {
   "cell_type": "code",
   "execution_count": 7,
   "metadata": {},
   "outputs": [
    {
     "name": "stdout",
     "output_type": "stream",
     "text": [
      "Torch:  0.01566004753112793\n",
      "Torch Shape (320, 640)\n"
     ]
    }
   ],
   "source": [
    "torch.cuda.current_stream().synchronize()\n",
    "t0 = time.time()\n",
    "\n",
    "with torch.no_grad():\n",
    "    a = model(torch.from_numpy(img).type(torch.cuda.FloatTensor)/255)\n",
    " \n",
    "torch.cuda.current_stream().synchronize()\n",
    "t1 = time.time()\n",
    "lap = t1 - t0\n",
    "print(\"Torch: \",lap)\n",
    "\n",
    "pt_pred = a.cpu().detach().numpy()[0][0]>0.4\n",
    "print(\"Torch Shape\",pt_pred.shape)"
   ]
  },
  {
   "cell_type": "code",
   "execution_count": null,
   "metadata": {},
   "outputs": [],
   "source": []
  }
 ],
 "metadata": {
  "kernelspec": {
   "display_name": "Python 3",
   "language": "python",
   "name": "python3"
  },
  "language_info": {
   "codemirror_mode": {
    "name": "ipython",
    "version": 3
   },
   "file_extension": ".py",
   "mimetype": "text/x-python",
   "name": "python",
   "nbconvert_exporter": "python",
   "pygments_lexer": "ipython3",
   "version": "3.6.10"
  }
 },
 "nbformat": 4,
 "nbformat_minor": 4
}
