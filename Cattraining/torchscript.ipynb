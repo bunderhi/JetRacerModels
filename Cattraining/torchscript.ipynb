{
 "metadata": {
  "language_info": {
   "codemirror_mode": {
    "name": "ipython",
    "version": 3
   },
   "file_extension": ".py",
   "mimetype": "text/x-python",
   "name": "python",
   "nbconvert_exporter": "python",
   "pygments_lexer": "ipython3",
   "version": 3
  },
  "orig_nbformat": 2
 },
 "nbformat": 4,
 "nbformat_minor": 2,
 "cells": [
  {
   "cell_type": "code",
   "execution_count": null,
   "metadata": {},
   "outputs": [],
   "source": [
    "import torch\n",
    "from torch import jit\n",
    "import matplotlib.pyplot as plt\n",
    "import cv2"
   ]
  },
  {
   "cell_type": "code",
   "execution_count": null,
   "metadata": {},
   "outputs": [],
   "source": [
    "# Load the trained model \n",
    "model = torch.load('/models/run10/weights.pt')\n",
    "# Set the model to evaluate mode\n",
    "model = model.cuda().eval()"
   ]
  },
  {
   "cell_type": "code",
   "execution_count": null,
   "metadata": {},
   "outputs": [],
   "source": [
    "data = torch.ones((1,3,320,640)).cuda()"
   ]
  },
  {
   "cell_type": "code",
   "execution_count": null,
   "metadata": {},
   "outputs": [],
   "source": [
    "net_trace = jit.trace(model,data)\n",
    "jit.save(net_trace,\"/models/run10/model.zip\")"
   ]
  },
  {
   "cell_type": "code",
   "execution_count": null,
   "metadata": {},
   "outputs": [],
   "source": [
    "ino = 536\n",
    "# Read  a sample image and mask from the data-set\n",
    "img = cv2.imread(f'/models/train_data/Images/{ino:03d}.jpg').transpose(2,0,1).reshape(1,3,320,640)\n",
    "mask = cv2.imread(f'/models/train_data/Masks/{ino:03d}_mask.png')\n",
    "\n",
    "with torch.no_grad():\n",
    "    a = model(torch.from_numpy(img).type(torch.cuda.FloatTensor)/255)"
   ]
  },
  {
   "cell_type": "code",
   "execution_count": null,
   "metadata": {},
   "outputs": [],
   "source": [
    "plt.figure(figsize=(10,10));\n",
    "plt.subplot(131);\n",
    "plt.imshow(img[0,...].transpose(1,2,0));\n",
    "plt.title('Image')\n",
    "plt.axis('off');\n",
    "plt.subplot(132);\n",
    "plt.imshow(mask);\n",
    "plt.title('Ground Truth')\n",
    "plt.axis('off');\n",
    "plt.subplot(133);\n",
    "plt.imshow(a.cpu().detach().numpy()[0][0]>0.4);\n",
    "plt.title('Segmentation Output')\n",
    "plt.axis('off');"
   ]
  }
 ]
}